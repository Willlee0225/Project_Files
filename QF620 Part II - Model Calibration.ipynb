{
 "cells": [
  {
   "cell_type": "code",
   "execution_count": 1,
   "metadata": {},
   "outputs": [],
   "source": [
    "import pandas as pd\n",
    "import numpy as np\n",
    "from scipy.stats import norm\n",
    "from scipy.optimize import brentq\n",
    "from scipy import interpolate\n",
    "import matplotlib.pylab as plt\n",
    "import datetime as dt\n",
    "from scipy.optimize import least_squares"
   ]
  },
  {
   "cell_type": "code",
   "execution_count": 2,
   "metadata": {},
   "outputs": [
    {
     "data": {
      "text/html": [
       "<div>\n",
       "<style scoped>\n",
       "    .dataframe tbody tr th:only-of-type {\n",
       "        vertical-align: middle;\n",
       "    }\n",
       "\n",
       "    .dataframe tbody tr th {\n",
       "        vertical-align: top;\n",
       "    }\n",
       "\n",
       "    .dataframe thead th {\n",
       "        text-align: right;\n",
       "    }\n",
       "</style>\n",
       "<table border=\"1\" class=\"dataframe\">\n",
       "  <thead>\n",
       "    <tr style=\"text-align: right;\">\n",
       "      <th></th>\n",
       "      <th>date</th>\n",
       "      <th>expiry</th>\n",
       "      <th>strike</th>\n",
       "      <th>best_bid</th>\n",
       "      <th>best_offer</th>\n",
       "      <th>mid_price</th>\n",
       "    </tr>\n",
       "  </thead>\n",
       "  <tbody>\n",
       "    <tr>\n",
       "      <th>0</th>\n",
       "      <td>20130830</td>\n",
       "      <td>20150117</td>\n",
       "      <td>320</td>\n",
       "      <td>0.90</td>\n",
       "      <td>2.00</td>\n",
       "      <td>1.450</td>\n",
       "    </tr>\n",
       "    <tr>\n",
       "      <th>1</th>\n",
       "      <td>20130830</td>\n",
       "      <td>20150117</td>\n",
       "      <td>340</td>\n",
       "      <td>0.15</td>\n",
       "      <td>2.30</td>\n",
       "      <td>1.225</td>\n",
       "    </tr>\n",
       "    <tr>\n",
       "      <th>2</th>\n",
       "      <td>20130830</td>\n",
       "      <td>20150117</td>\n",
       "      <td>350</td>\n",
       "      <td>0.80</td>\n",
       "      <td>2.45</td>\n",
       "      <td>1.625</td>\n",
       "    </tr>\n",
       "    <tr>\n",
       "      <th>3</th>\n",
       "      <td>20130830</td>\n",
       "      <td>20150117</td>\n",
       "      <td>360</td>\n",
       "      <td>0.60</td>\n",
       "      <td>2.65</td>\n",
       "      <td>1.625</td>\n",
       "    </tr>\n",
       "    <tr>\n",
       "      <th>4</th>\n",
       "      <td>20130830</td>\n",
       "      <td>20150117</td>\n",
       "      <td>370</td>\n",
       "      <td>0.65</td>\n",
       "      <td>2.85</td>\n",
       "      <td>1.750</td>\n",
       "    </tr>\n",
       "  </tbody>\n",
       "</table>\n",
       "</div>"
      ],
      "text/plain": [
       "       date    expiry  strike  best_bid  best_offer  mid_price\n",
       "0  20130830  20150117     320      0.90        2.00      1.450\n",
       "1  20130830  20150117     340      0.15        2.30      1.225\n",
       "2  20130830  20150117     350      0.80        2.45      1.625\n",
       "3  20130830  20150117     360      0.60        2.65      1.625\n",
       "4  20130830  20150117     370      0.65        2.85      1.750"
      ]
     },
     "execution_count": 2,
     "metadata": {},
     "output_type": "execute_result"
    }
   ],
   "source": [
    "#set dataframe\n",
    "rate_df = pd.read_csv(\"discount.csv\")\n",
    "call_df = pd.read_csv(\"goog_call.csv\")\n",
    "put_df = pd.read_csv(\"goog_put.csv\")\n",
    "call_df[\"mid_price\"]=(call_df[\"best_bid\"]+call_df[\"best_offer\"])/2\n",
    "put_df[\"mid_price\"]=(put_df[\"best_bid\"]+put_df[\"best_offer\"])/2\n",
    "mkt_df=pd.concat([put_df,call_df])\n",
    "mkt_df.head()"
   ]
  },
  {
   "cell_type": "code",
   "execution_count": 3,
   "metadata": {},
   "outputs": [],
   "source": [
    "#interpolation\n",
    "x = rate_df[\"Day\"]\n",
    "y = rate_df[\"Rate (%)\"]\n",
    "interp =interpolate.interp1d(x,y)"
   ]
  },
  {
   "cell_type": "code",
   "execution_count": 4,
   "metadata": {},
   "outputs": [],
   "source": [
    "#Parameters\n",
    "today = dt.date(2013, 8, 30)\n",
    "expiry = dt.date(2015, 1, 17)\n",
    "T = (expiry-today).days/365.0\n",
    "S = 846.9\n",
    "r = interp(T*365)/100\n",
    "F = S*np.exp(r*T)"
   ]
  },
  {
   "cell_type": "markdown",
   "metadata": {},
   "source": [
    "### ATM (AT-THE-MONEY) Implied Volatility\n"
   ]
  },
  {
   "cell_type": "code",
   "execution_count": 5,
   "metadata": {},
   "outputs": [],
   "source": [
    "def BlackScholesCall(S, K, r, sigma, T):\n",
    "    d1 = (np.log(S/K)+(r+sigma**2/2)*T) / (sigma*np.sqrt(T))\n",
    "    d2 = d1 - sigma*np.sqrt(T)\n",
    "    return S*norm.cdf(d1) - K*np.exp(-r*T)*norm.cdf(d2)\n",
    "\n",
    "def BlackScholesPut(S,K,r,sigma,T):\n",
    "    d1 = (np.log(S/K)+(r+0.5*sigma**2)*T)/(sigma*np.sqrt(T))\n",
    "    d2 = d1 - sigma*np.sqrt(T)\n",
    "    return K*np.exp(-r*T)*norm.cdf(-d2) - S*norm.cdf(-d1)\n",
    "    \n",
    "def impliedCallVolatility(S, K, r, price, T):\n",
    "    return brentq(lambda x: price -BlackScholesCall(S, K, r, x, T),1e-6, 1)\n",
    "\n",
    "def impliedPutVolatility(S, K, r, price, T):\n",
    "    return brentq(lambda x: price -BlackScholesPut(S, K, r, x, T),1e-6, 1)"
   ]
  },
  {
   "cell_type": "markdown",
   "metadata": {},
   "source": [
    "using the mid-price to find ATM at where the strike price(K=850) is closest to the forward price(F=851.7)"
   ]
  },
  {
   "cell_type": "code",
   "execution_count": 6,
   "metadata": {
    "scrolled": false
   },
   "outputs": [
    {
     "name": "stdout",
     "output_type": "stream",
     "text": [
      "0.25827414878228977\n"
     ]
    }
   ],
   "source": [
    "ATMvolCall=impliedCallVolatility(S,850,r,101.4,T)\n",
    "ATMvolPut=impliedPutVolatility(S,850,r,102.9,T)\n",
    "ATMvol=float((ATMvolCall+ATMvolPut)/2)\n",
    "print(ATMvol)"
   ]
  },
  {
   "cell_type": "markdown",
   "metadata": {},
   "source": [
    "#### Now we calculate market, norml, lognormal  and Displaced-diffusion(with different beta) implied volatilities."
   ]
  },
  {
   "cell_type": "code",
   "execution_count": 7,
   "metadata": {},
   "outputs": [],
   "source": [
    "#First we define all the models we need to use:\n",
    "#Displaced-Diffusion Model\n",
    "def DisplacedDiffusionCall(S,K,r,sigma,T,beta):\n",
    "    F0 = (S*np.exp(r*T))\n",
    "    d1 = (np.log(F0 / (beta * (K + (1 - beta) / beta * F0))) + 0.5 * T * (beta * sigma) ** 2) / (\n",
    "                beta * sigma * np.sqrt(T))\n",
    "    d2 = d1 - (sigma * beta) * np.sqrt(T)\n",
    "    return np.exp(-r * T) * ((F0 / beta) * norm.cdf(d1) - (K + (1 - beta) / beta * F0) * norm.cdf(d2))\n",
    "\n",
    "def DisplacedDiffusionPut(S,K,r,sigma,T,beta):\n",
    "    F0 = (S*np.exp(r*T))\n",
    "    d1 = (np.log(F0 / (beta * (K + (1 - beta) / beta * F0))) + 0.5 * T * (beta * sigma) ** 2) / (\n",
    "                beta * sigma * np.sqrt(T))\n",
    "    d2 = d1 - (sigma * beta) * np.sqrt(T)\n",
    "    return np.exp(-r * T) * ((K + ((1 - beta) / beta) * F0) * norm.cdf(-d2) - (F0 / beta) * norm.cdf(-d1))\n",
    "\n",
    "#Bachelier Model\n",
    "def BachelierCall(S,K,sigma,T):\n",
    "    d = (S-K)/(S*sigma*np.sqrt(T))\n",
    "    return (S-K)*norm.cdf(d)+S*sigma*np.sqrt(T)*norm.pdf(d)\n",
    "    \n",
    "def BachelierPut(S,K,sigma,T):\n",
    "    d = (S-K)/(S*sigma*np.sqrt(T))\n",
    "    return (K-S)*norm.cdf(-d)+S*sigma*np.sqrt(T)*norm.pdf(-d)"
   ]
  },
  {
   "cell_type": "code",
   "execution_count": 8,
   "metadata": {
    "scrolled": true
   },
   "outputs": [
    {
     "data": {
      "text/html": [
       "<div>\n",
       "<style scoped>\n",
       "    .dataframe tbody tr th:only-of-type {\n",
       "        vertical-align: middle;\n",
       "    }\n",
       "\n",
       "    .dataframe tbody tr th {\n",
       "        vertical-align: top;\n",
       "    }\n",
       "\n",
       "    .dataframe thead th {\n",
       "        text-align: right;\n",
       "    }\n",
       "</style>\n",
       "<table border=\"1\" class=\"dataframe\">\n",
       "  <thead>\n",
       "    <tr style=\"text-align: right;\">\n",
       "      <th></th>\n",
       "      <th>strike</th>\n",
       "      <th>impliedvol_market</th>\n",
       "      <th>impliedvol_normal</th>\n",
       "      <th>impliedvol_lognormal</th>\n",
       "      <th>impliedvol_DD1</th>\n",
       "      <th>impliedvol_DD2</th>\n",
       "      <th>impliedvol_DD3</th>\n",
       "      <th>impliedvol_DD4</th>\n",
       "    </tr>\n",
       "  </thead>\n",
       "  <tbody>\n",
       "    <tr>\n",
       "      <th>0</th>\n",
       "      <td>320.0</td>\n",
       "      <td>0.393102</td>\n",
       "      <td>0.410059</td>\n",
       "      <td>0.258274</td>\n",
       "      <td>0.382252</td>\n",
       "      <td>0.354314</td>\n",
       "      <td>0.324730</td>\n",
       "      <td>0.293003</td>\n",
       "    </tr>\n",
       "    <tr>\n",
       "      <th>1</th>\n",
       "      <td>340.0</td>\n",
       "      <td>0.361520</td>\n",
       "      <td>0.399618</td>\n",
       "      <td>0.258274</td>\n",
       "      <td>0.373432</td>\n",
       "      <td>0.347321</td>\n",
       "      <td>0.319742</td>\n",
       "      <td>0.290289</td>\n",
       "    </tr>\n",
       "    <tr>\n",
       "      <th>2</th>\n",
       "      <td>350.0</td>\n",
       "      <td>0.365782</td>\n",
       "      <td>0.394686</td>\n",
       "      <td>0.258274</td>\n",
       "      <td>0.369270</td>\n",
       "      <td>0.344029</td>\n",
       "      <td>0.317402</td>\n",
       "      <td>0.289021</td>\n",
       "    </tr>\n",
       "    <tr>\n",
       "      <th>3</th>\n",
       "      <td>360.0</td>\n",
       "      <td>0.355104</td>\n",
       "      <td>0.389931</td>\n",
       "      <td>0.258274</td>\n",
       "      <td>0.365260</td>\n",
       "      <td>0.340861</td>\n",
       "      <td>0.315155</td>\n",
       "      <td>0.287808</td>\n",
       "    </tr>\n",
       "    <tr>\n",
       "      <th>4</th>\n",
       "      <td>370.0</td>\n",
       "      <td>0.348660</td>\n",
       "      <td>0.385342</td>\n",
       "      <td>0.258274</td>\n",
       "      <td>0.361392</td>\n",
       "      <td>0.337810</td>\n",
       "      <td>0.312995</td>\n",
       "      <td>0.286645</td>\n",
       "    </tr>\n",
       "  </tbody>\n",
       "</table>\n",
       "</div>"
      ],
      "text/plain": [
       "   strike  impliedvol_market  impliedvol_normal  impliedvol_lognormal  \\\n",
       "0   320.0           0.393102           0.410059              0.258274   \n",
       "1   340.0           0.361520           0.399618              0.258274   \n",
       "2   350.0           0.365782           0.394686              0.258274   \n",
       "3   360.0           0.355104           0.389931              0.258274   \n",
       "4   370.0           0.348660           0.385342              0.258274   \n",
       "\n",
       "   impliedvol_DD1  impliedvol_DD2  impliedvol_DD3  impliedvol_DD4  \n",
       "0        0.382252        0.354314        0.324730        0.293003  \n",
       "1        0.373432        0.347321        0.319742        0.290289  \n",
       "2        0.369270        0.344029        0.317402        0.289021  \n",
       "3        0.365260        0.340861        0.315155        0.287808  \n",
       "4        0.361392        0.337810        0.312995        0.286645  "
      ]
     },
     "execution_count": 8,
     "metadata": {},
     "output_type": "execute_result"
    }
   ],
   "source": [
    "#Now we do the calculation:\n",
    "summary = []\n",
    "for i in call_df.index:\n",
    "    K = call_df.loc[i][\"strike\"]\n",
    "    if K >= 850:\n",
    "        Vol_market = impliedCallVolatility(S, K, r, call_df[\"mid_price\"][i], T)\n",
    "        \n",
    "        Vol_normal=impliedCallVolatility(S, K, r, BachelierCall(S, K, ATMvol, T), T)\n",
    "      \n",
    "        Vol_lognormal = impliedCallVolatility(S, K, r,BlackScholesCall(S, K, r, ATMvol, T), T)\n",
    "\n",
    "        Vol_DD1 = impliedCallVolatility(S, K, r, DisplacedDiffusionCall(S, K, r, ATMvol, T, 0.2), T)\n",
    "\n",
    "        Vol_DD2 = impliedCallVolatility(S, K, r, DisplacedDiffusionCall(S, K, r, ATMvol, T, 0.4), T)\n",
    "\n",
    "        Vol_DD3 = impliedCallVolatility(S, K, r, DisplacedDiffusionCall(S, K, r, ATMvol, T, 0.6), T)\n",
    "\n",
    "        Vol_DD4 = impliedCallVolatility(S, K, r, DisplacedDiffusionCall(S, K, r, ATMvol, T, 0.8), T)\n",
    "        \n",
    "    if K <= 850:\n",
    "        Vol_market = impliedPutVolatility(S, K, r, put_df[\"mid_price\"][i], T)\n",
    " \n",
    "        Vol_normal= impliedPutVolatility(S, K, r, BachelierPut(S, K, ATMvol, T), T)   \n",
    "\n",
    "        Vol_lognormal = impliedPutVolatility(S, K, r, BlackScholesPut(S, K, r, ATMvol, T), T) \n",
    "\n",
    "        Vol_DD1 = impliedPutVolatility(S, K, r,  DisplacedDiffusionPut(S, K, r, ATMvol, T, 0.2), T)\n",
    "\n",
    "        Vol_DD2 = impliedPutVolatility(S, K, r,  DisplacedDiffusionPut(S, K, r, ATMvol, T, 0.4), T)\n",
    "\n",
    "        Vol_DD3 = impliedPutVolatility(S, K, r,  DisplacedDiffusionPut(S, K, r, ATMvol, T, 0.6), T)\n",
    "\n",
    "        Vol_DD4 = impliedPutVolatility(S, K, r,  DisplacedDiffusionPut(S, K, r, ATMvol, T, 0.8), T)\n",
    "\n",
    "\n",
    "    summary.append([K, Vol_market, Vol_normal, Vol_lognormal, Vol_DD1, Vol_DD2, Vol_DD3, Vol_DD4])\n",
    "\n",
    "df_combine = pd.DataFrame(summary, columns=[\"strike\",\"impliedvol_market\",\"impliedvol_normal\",\"impliedvol_lognormal\", \"impliedvol_DD1\",\"impliedvol_DD2\",\"impliedvol_DD3\",\"impliedvol_DD4\"])\n",
    "df_combine.head()"
   ]
  },
  {
   "cell_type": "markdown",
   "metadata": {},
   "source": [
    "### Displaced-Diffusion Calibration"
   ]
  },
  {
   "cell_type": "code",
   "execution_count": 9,
   "metadata": {},
   "outputs": [
    {
     "data": {
      "text/html": [
       "<div>\n",
       "<style scoped>\n",
       "    .dataframe tbody tr th:only-of-type {\n",
       "        vertical-align: middle;\n",
       "    }\n",
       "\n",
       "    .dataframe tbody tr th {\n",
       "        vertical-align: top;\n",
       "    }\n",
       "\n",
       "    .dataframe thead th {\n",
       "        text-align: right;\n",
       "    }\n",
       "</style>\n",
       "<table border=\"1\" class=\"dataframe\">\n",
       "  <thead>\n",
       "    <tr style=\"text-align: right;\">\n",
       "      <th></th>\n",
       "      <th>strike</th>\n",
       "      <th>impliedvol_market</th>\n",
       "      <th>impliedvol_normal</th>\n",
       "      <th>impliedvol_lognormal</th>\n",
       "      <th>impliedvol_DD1</th>\n",
       "      <th>impliedvol_DD2</th>\n",
       "      <th>impliedvol_DD3</th>\n",
       "      <th>impliedvol_DD4</th>\n",
       "      <th>impliedvol_DD</th>\n",
       "    </tr>\n",
       "  </thead>\n",
       "  <tbody>\n",
       "    <tr>\n",
       "      <th>0</th>\n",
       "      <td>320.0</td>\n",
       "      <td>0.393102</td>\n",
       "      <td>0.410059</td>\n",
       "      <td>0.258274</td>\n",
       "      <td>0.382252</td>\n",
       "      <td>0.354314</td>\n",
       "      <td>0.324730</td>\n",
       "      <td>0.293003</td>\n",
       "      <td>0.364307</td>\n",
       "    </tr>\n",
       "    <tr>\n",
       "      <th>1</th>\n",
       "      <td>340.0</td>\n",
       "      <td>0.361520</td>\n",
       "      <td>0.399618</td>\n",
       "      <td>0.258274</td>\n",
       "      <td>0.373432</td>\n",
       "      <td>0.347321</td>\n",
       "      <td>0.319742</td>\n",
       "      <td>0.290289</td>\n",
       "      <td>0.356655</td>\n",
       "    </tr>\n",
       "    <tr>\n",
       "      <th>2</th>\n",
       "      <td>350.0</td>\n",
       "      <td>0.365782</td>\n",
       "      <td>0.394686</td>\n",
       "      <td>0.258274</td>\n",
       "      <td>0.369270</td>\n",
       "      <td>0.344029</td>\n",
       "      <td>0.317402</td>\n",
       "      <td>0.289021</td>\n",
       "      <td>0.353048</td>\n",
       "    </tr>\n",
       "    <tr>\n",
       "      <th>3</th>\n",
       "      <td>360.0</td>\n",
       "      <td>0.355104</td>\n",
       "      <td>0.389931</td>\n",
       "      <td>0.258274</td>\n",
       "      <td>0.365260</td>\n",
       "      <td>0.340861</td>\n",
       "      <td>0.315155</td>\n",
       "      <td>0.287808</td>\n",
       "      <td>0.349577</td>\n",
       "    </tr>\n",
       "    <tr>\n",
       "      <th>4</th>\n",
       "      <td>370.0</td>\n",
       "      <td>0.348660</td>\n",
       "      <td>0.385342</td>\n",
       "      <td>0.258274</td>\n",
       "      <td>0.361392</td>\n",
       "      <td>0.337810</td>\n",
       "      <td>0.312995</td>\n",
       "      <td>0.286645</td>\n",
       "      <td>0.346232</td>\n",
       "    </tr>\n",
       "  </tbody>\n",
       "</table>\n",
       "</div>"
      ],
      "text/plain": [
       "   strike  impliedvol_market  impliedvol_normal  impliedvol_lognormal  \\\n",
       "0   320.0           0.393102           0.410059              0.258274   \n",
       "1   340.0           0.361520           0.399618              0.258274   \n",
       "2   350.0           0.365782           0.394686              0.258274   \n",
       "3   360.0           0.355104           0.389931              0.258274   \n",
       "4   370.0           0.348660           0.385342              0.258274   \n",
       "\n",
       "   impliedvol_DD1  impliedvol_DD2  impliedvol_DD3  impliedvol_DD4  \\\n",
       "0        0.382252        0.354314        0.324730        0.293003   \n",
       "1        0.373432        0.347321        0.319742        0.290289   \n",
       "2        0.369270        0.344029        0.317402        0.289021   \n",
       "3        0.365260        0.340861        0.315155        0.287808   \n",
       "4        0.361392        0.337810        0.312995        0.286645   \n",
       "\n",
       "   impliedvol_DD  \n",
       "0       0.364307  \n",
       "1       0.356655  \n",
       "2       0.353048  \n",
       "3       0.349577  \n",
       "4       0.346232  "
      ]
     },
     "execution_count": 9,
     "metadata": {},
     "output_type": "execute_result"
    }
   ],
   "source": [
    "def ddcalibration(x, strikes, vols, F, T, r):\n",
    "    err = 0.0\n",
    "    for i,vol in enumerate(vols):\n",
    "        if strikes[i] >= 850:\n",
    "             err += (vol - impliedCallVolatility(S, strikes[i], r, DisplacedDiffusionCall(F, strikes[i], r, ATMvol, T, x), T))**2\n",
    "        if strikes[i] <= 850:\n",
    "             err += (vol - impliedPutVolatility(S, strikes[i], r, DisplacedDiffusionPut(F, strikes[i], r, ATMvol, T, x), T))**2\n",
    "                \n",
    "    return err\n",
    "\n",
    "DDinitialGuess = 0.2\n",
    "res_DD = least_squares(lambda x: ddcalibration(x,\n",
    "                                              df_combine[\"strike\"].values,\n",
    "                                              df_combine[\"impliedvol_market\"].values,\n",
    "                                              F,T,r), \n",
    "                                              DDinitialGuess)\n",
    "DDbeta = res_DD.x[0]\n",
    "\n",
    "#generating a new Displaced-Diffusion Model implied volatility after calibration\n",
    "summary_dd = []\n",
    "for i in df_combine.index:\n",
    "    K = df_combine.loc[i][\"strike\"]\n",
    "    if K > 850:        \n",
    "        impliedvol_DD = impliedCallVolatility(S, K, r, DisplacedDiffusionCall(S, K, r, ATMvol, T, DDbeta), T) \n",
    "        \n",
    "    if K <= 850:        \n",
    "        impliedvol_DD = impliedPutVolatility(S, K, r, DisplacedDiffusionPut(S, K, r, ATMvol, T, DDbeta), T)\n",
    "        \n",
    "    summary_dd.append([impliedvol_DD])\n",
    "\n",
    "df_combine[\"impliedvol_DD\"] = np.array(summary_dd)\n",
    "df_combine.head()"
   ]
  },
  {
   "cell_type": "markdown",
   "metadata": {},
   "source": [
    "### SABR Model Calibration"
   ]
  },
  {
   "cell_type": "code",
   "execution_count": 10,
   "metadata": {},
   "outputs": [],
   "source": [
    "#Define SABR Model\n",
    "def SABR(F, K, T, alpha, beta, rho, nu):\n",
    "    X = K\n",
    "    # if K is at-the-money-forward\n",
    "    if abs(F - K) < 1e-12:\n",
    "        numer1 = (((1 - beta)**2)/24)*alpha*alpha/(F**(2 - 2*beta))\n",
    "        numer2 = 0.25*rho*beta*nu*alpha/(F**(1 - beta))\n",
    "        numer3 = ((2 - 3*rho*rho)/24)*nu*nu\n",
    "        VolAtm = alpha*(1 + (numer1 + numer2 + numer3)*T)/(F**(1-beta))\n",
    "        sabrsigma = VolAtm\n",
    "    else:\n",
    "        z = (nu/alpha)*((F*X)**(0.5*(1-beta)))*np.log(F/X)\n",
    "        zhi = np.log((((1 - 2*rho*z + z*z)**0.5) + z - rho)/(1 - rho))\n",
    "        numer1 = (((1 - beta)**2)/24)*((alpha*alpha)/((F*X)**(1 - beta)))\n",
    "        numer2 = 0.25*rho*beta*nu*alpha/((F*X)**((1 - beta)/2))\n",
    "        numer3 = ((2 - 3*rho*rho)/24)*nu*nu\n",
    "        numer = alpha*(1 + (numer1 + numer2 + numer3)*T)*z\n",
    "        denom1 = ((1 - beta)**2/24)*(np.log(F/X))**2\n",
    "        denom2 = (((1 - beta)**4)/1920)*((np.log(F/X))**4)\n",
    "        denom = ((F*X)**((1 - beta)/2))*(1 + denom1 + denom2)*zhi\n",
    "        sabrsigma = numer/denom\n",
    "\n",
    "    return sabrsigma"
   ]
  },
  {
   "cell_type": "code",
   "execution_count": 11,
   "metadata": {},
   "outputs": [],
   "source": [
    "#SABR Calibration\n",
    "SARBbeta = 0.8\n",
    "def sabrcalibration(x, strikes, vols, F, T):\n",
    "    err = 0.0\n",
    "    for i, vol in enumerate(vols):\n",
    "        err += (vol - SABR(F, strikes[i], T, x[0], SARBbeta, x[1], x[2]))**2\n",
    "    return err\n",
    "\n",
    "SARBinitialGuess = [0.02, 0.2, 0.1]\n",
    "res_SARB = least_squares(lambda x: sabrcalibration(x,df_combine[\"strike\"].values,df_combine[\"impliedvol_market\"].values,F,T),SARBinitialGuess)\n",
    "\n",
    "alpha = res_SARB.x[0]\n",
    "rho = res_SARB.x[1]\n",
    "nu = res_SARB.x[2]"
   ]
  },
  {
   "cell_type": "code",
   "execution_count": 12,
   "metadata": {},
   "outputs": [
    {
     "data": {
      "text/plain": [
       "0.9907772780171966"
      ]
     },
     "execution_count": 12,
     "metadata": {},
     "output_type": "execute_result"
    }
   ],
   "source": [
    "alpha"
   ]
  },
  {
   "cell_type": "code",
   "execution_count": 13,
   "metadata": {},
   "outputs": [
    {
     "data": {
      "text/plain": [
       "-0.28514715549366737"
      ]
     },
     "execution_count": 13,
     "metadata": {},
     "output_type": "execute_result"
    }
   ],
   "source": [
    "rho"
   ]
  },
  {
   "cell_type": "code",
   "execution_count": 14,
   "metadata": {},
   "outputs": [
    {
     "data": {
      "text/plain": [
       "0.3522271349016911"
      ]
     },
     "execution_count": 14,
     "metadata": {},
     "output_type": "execute_result"
    }
   ],
   "source": [
    "nu"
   ]
  },
  {
   "cell_type": "markdown",
   "metadata": {},
   "source": [
    "### Implied Volatility for SABR with different Rho and Nu"
   ]
  },
  {
   "cell_type": "code",
   "execution_count": 15,
   "metadata": {},
   "outputs": [],
   "source": [
    "SARBbeta = 0.8\n",
    "\n",
    "rho1,rho2,rho3 = -0.5,0.0,0.5\n",
    "\n",
    "nu1,nu2,nu3 = 0.1,0.3,0.5"
   ]
  },
  {
   "cell_type": "code",
   "execution_count": 16,
   "metadata": {},
   "outputs": [
    {
     "data": {
      "text/html": [
       "<div>\n",
       "<style scoped>\n",
       "    .dataframe tbody tr th:only-of-type {\n",
       "        vertical-align: middle;\n",
       "    }\n",
       "\n",
       "    .dataframe tbody tr th {\n",
       "        vertical-align: top;\n",
       "    }\n",
       "\n",
       "    .dataframe thead th {\n",
       "        text-align: right;\n",
       "    }\n",
       "</style>\n",
       "<table border=\"1\" class=\"dataframe\">\n",
       "  <thead>\n",
       "    <tr style=\"text-align: right;\">\n",
       "      <th></th>\n",
       "      <th>strike</th>\n",
       "      <th>impliedvol_market</th>\n",
       "      <th>impliedvol_lognormal</th>\n",
       "      <th>impliedvol_SABR</th>\n",
       "      <th>impliedvol_rho1</th>\n",
       "      <th>impliedvol_rho2</th>\n",
       "      <th>impliedvol_rho3</th>\n",
       "      <th>impliedvol_nu1</th>\n",
       "      <th>impliedvol_nu2</th>\n",
       "      <th>impliedvol_nu3</th>\n",
       "    </tr>\n",
       "  </thead>\n",
       "  <tbody>\n",
       "    <tr>\n",
       "      <th>0</th>\n",
       "      <td>320.0</td>\n",
       "      <td>0.393102</td>\n",
       "      <td>0.258274</td>\n",
       "      <td>0.368805</td>\n",
       "      <td>0.386587</td>\n",
       "      <td>0.340208</td>\n",
       "      <td>0.270207</td>\n",
       "      <td>0.300857</td>\n",
       "      <td>0.353244</td>\n",
       "      <td>0.415168</td>\n",
       "    </tr>\n",
       "    <tr>\n",
       "      <th>1</th>\n",
       "      <td>340.0</td>\n",
       "      <td>0.361520</td>\n",
       "      <td>0.258274</td>\n",
       "      <td>0.361070</td>\n",
       "      <td>0.378170</td>\n",
       "      <td>0.333553</td>\n",
       "      <td>0.266172</td>\n",
       "      <td>0.297892</td>\n",
       "      <td>0.346523</td>\n",
       "      <td>0.404618</td>\n",
       "    </tr>\n",
       "    <tr>\n",
       "      <th>2</th>\n",
       "      <td>350.0</td>\n",
       "      <td>0.365782</td>\n",
       "      <td>0.258274</td>\n",
       "      <td>0.357384</td>\n",
       "      <td>0.374145</td>\n",
       "      <td>0.330405</td>\n",
       "      <td>0.264342</td>\n",
       "      <td>0.296483</td>\n",
       "      <td>0.343324</td>\n",
       "      <td>0.399575</td>\n",
       "    </tr>\n",
       "    <tr>\n",
       "      <th>3</th>\n",
       "      <td>360.0</td>\n",
       "      <td>0.355104</td>\n",
       "      <td>0.258274</td>\n",
       "      <td>0.353810</td>\n",
       "      <td>0.370233</td>\n",
       "      <td>0.327369</td>\n",
       "      <td>0.262631</td>\n",
       "      <td>0.295120</td>\n",
       "      <td>0.340225</td>\n",
       "      <td>0.394676</td>\n",
       "    </tr>\n",
       "    <tr>\n",
       "      <th>4</th>\n",
       "      <td>370.0</td>\n",
       "      <td>0.348660</td>\n",
       "      <td>0.258274</td>\n",
       "      <td>0.350344</td>\n",
       "      <td>0.366428</td>\n",
       "      <td>0.324440</td>\n",
       "      <td>0.261034</td>\n",
       "      <td>0.293799</td>\n",
       "      <td>0.337222</td>\n",
       "      <td>0.389914</td>\n",
       "    </tr>\n",
       "  </tbody>\n",
       "</table>\n",
       "</div>"
      ],
      "text/plain": [
       "   strike  impliedvol_market  impliedvol_lognormal  impliedvol_SABR  \\\n",
       "0   320.0           0.393102              0.258274         0.368805   \n",
       "1   340.0           0.361520              0.258274         0.361070   \n",
       "2   350.0           0.365782              0.258274         0.357384   \n",
       "3   360.0           0.355104              0.258274         0.353810   \n",
       "4   370.0           0.348660              0.258274         0.350344   \n",
       "\n",
       "   impliedvol_rho1  impliedvol_rho2  impliedvol_rho3  impliedvol_nu1  \\\n",
       "0         0.386587         0.340208         0.270207        0.300857   \n",
       "1         0.378170         0.333553         0.266172        0.297892   \n",
       "2         0.374145         0.330405         0.264342        0.296483   \n",
       "3         0.370233         0.327369         0.262631        0.295120   \n",
       "4         0.366428         0.324440         0.261034        0.293799   \n",
       "\n",
       "   impliedvol_nu2  impliedvol_nu3  \n",
       "0        0.353244        0.415168  \n",
       "1        0.346523        0.404618  \n",
       "2        0.343324        0.399575  \n",
       "3        0.340225        0.394676  \n",
       "4        0.337222        0.389914  "
      ]
     },
     "execution_count": 16,
     "metadata": {},
     "output_type": "execute_result"
    }
   ],
   "source": [
    "summary2 = []\n",
    "for i in df_combine.index:\n",
    "    K = df_combine.loc[i][\"strike\"]\n",
    "    if K > 850:\n",
    "        Vol_market = impliedCallVolatility(S, K, r, call_df['mid_price'][i], T)\n",
    "\n",
    "        Vol_lognormal = impliedCallVolatility(S, K, r,BlackScholesCall(S, K, r, ATMvol, T), T)\n",
    "    if K <= 850:\n",
    "        Vol_market = impliedPutVolatility(S, K, r, put_df['mid_price'][i], T)\n",
    "\n",
    "        Vol_lognormal =impliedPutVolatility(S, K, r, BlackScholesPut(S, K, r, ATMvol, T), T) \n",
    "\n",
    "\n",
    "    Vol_SABR = SABR(F, K, T, alpha, SARBbeta, rho, nu)\n",
    "\n",
    "    Vol_rho1 = SABR(F, K, T, alpha, SARBbeta, rho1, nu)\n",
    "    Vol_rho2 = SABR(F, K, T, alpha, SARBbeta, rho2, nu)\n",
    "    Vol_rho3 = SABR(F, K, T, alpha, SARBbeta, rho3, nu)\n",
    "\n",
    "    Vol_nu1 = SABR(F, K, T, alpha, SARBbeta, rho, nu1)\n",
    "    Vol_nu2 = SABR(F, K, T, alpha, SARBbeta, rho, nu2)\n",
    "    Vol_nu3 = SABR(F, K, T, alpha, SARBbeta, rho, nu3)\n",
    "\n",
    "    summary2.append([K,Vol_market,Vol_lognormal,Vol_SABR, Vol_rho1, Vol_rho2,Vol_rho3,Vol_nu1, Vol_nu2,Vol_nu3])\n",
    "\n",
    "df_combine2 = pd.DataFrame(summary2, columns=[\"strike\", \"impliedvol_market\",\"impliedvol_lognormal\",\"impliedvol_SABR\", \"impliedvol_rho1\", \"impliedvol_rho2\",\"impliedvol_rho3\", \"impliedvol_nu1\", \"impliedvol_nu2\",\"impliedvol_nu3\"])\n",
    "df_combine2.head()"
   ]
  },
  {
   "cell_type": "markdown",
   "metadata": {},
   "source": [
    "### Plot the implied volatility smile of market, Displaced-Diffusion Model and SABR Model"
   ]
  },
  {
   "cell_type": "code",
   "execution_count": 17,
   "metadata": {},
   "outputs": [
    {
     "data": {
      "image/png": "[encoded data removed]",
      "text/plain": [
       "<Figure size 576x432 with 1 Axes>"
      ]
     },
     "metadata": {
      "needs_background": "light"
     },
     "output_type": "display_data"
    }
   ],
   "source": [
    "# plot of market data and calibrated Displaced-Diffusion Model\n",
    "plt.figure(figsize=(8, 6))\n",
    "plt.plot(df_combine[\"strike\"],df_combine[\"impliedvol_market\"],\"gs\",label=\"Market\")\n",
    "plt.plot(df_combine[\"strike\"],df_combine[\"impliedvol_normal\"],\"b--\",linewidth=2,label=\"Normal Model\")\n",
    "plt.plot(df_combine[\"strike\"],df_combine[\"impliedvol_lognormal\"],\"purple\",linestyle=\"--\",linewidth=2,label=\"Lognormal Model\")\n",
    "plt.plot(df_combine[\"strike\"],df_combine[\"impliedvol_DD\"],\"orange\",linestyle=\"--\",linewidth=2,label=\"Displaced-Diffusion Model\")\n",
    "#plot of calibrated SABR Model\n",
    "plt.plot(df_combine2[\"strike\"],df_combine2[\"impliedvol_SABR\"],\"red\",linestyle=\"--\",linewidth=2,label=\"SABR Model\")\n",
    "\n",
    "plt.title(\"Implied Volatility Smile Of Market, Displaced-Diffusion Model and SABR Model\")\n",
    "plt.xlabel(\"Strike\")\n",
    "plt.ylabel(\"Implied Volatility\")\n",
    "plt.legend(loc=\"upper right\")\n",
    "plt.show()"
   ]
  },
  {
   "cell_type": "markdown",
   "metadata": {},
   "source": [
    "### Plot the implied volatility smile of Displaced-Diffusion Model with varied beta(β)"
   ]
  },
  {
   "cell_type": "code",
   "execution_count": 18,
   "metadata": {},
   "outputs": [
    {
     "data": {
      "image/png": "[encoded data removed]",
      "text/plain": [
       "<Figure size 576x432 with 1 Axes>"
      ]
     },
     "metadata": {
      "needs_background": "light"
     },
     "output_type": "display_data"
    }
   ],
   "source": [
    "# plot of market data\n",
    "plt.figure(figsize=(8, 6))\n",
    "plt.plot(df_combine[\"strike\"],df_combine[\"impliedvol_market\"],\"gs\",label=\"Market\")\n",
    "plt.plot(df_combine[\"strike\"],df_combine[\"impliedvol_normal\"],\"blue\",linestyle=\"--\",linewidth=2,label=\"Normal Model\")\n",
    "plt.plot(df_combine[\"strike\"],df_combine[\"impliedvol_lognormal\"],\"purple\",linestyle=\"--\",linewidth=2,label=\"Lognormal Model\")\n",
    "#plot Displaced-Diffusion Model with different beta\n",
    "plt.plot(df_combine[\"strike\"],df_combine[\"impliedvol_DD1\"],\"k-\",label=\"β = 0.2\")\n",
    "plt.plot(df_combine[\"strike\"],df_combine[\"impliedvol_DD2\"],\"k-.\",label=\"β = 0.4\")\n",
    "plt.plot(df_combine[\"strike\"],df_combine[\"impliedvol_DD3\"],\"k--\",label=\"β = 0.6\")\n",
    "plt.plot(df_combine[\"strike\"],df_combine[\"impliedvol_DD4\"],\"k:\" ,label=\"β = 0.8\")\n",
    "\n",
    "plt.title(\"Varied BETA for Displaced-Diffusion Model\")\n",
    "plt.xlabel(\"Strike\")\n",
    "plt.ylabel(\"Implied Volatility\")\n",
    "plt.legend(loc=\"upper right\")\n",
    "plt.show()"
   ]
  },
  {
   "cell_type": "markdown",
   "metadata": {},
   "source": [
    "### Plot the implied volatility smile of SABR Model with varied rho(ρ)"
   ]
  },
  {
   "cell_type": "code",
   "execution_count": 19,
   "metadata": {},
   "outputs": [
    {
     "data": {
      "image/png": "[encoded data removed]",
      "text/plain": [
       "<Figure size 576x432 with 1 Axes>"
      ]
     },
     "metadata": {
      "needs_background": "light"
     },
     "output_type": "display_data"
    }
   ],
   "source": [
    "plt.figure(figsize=(8, 6))\n",
    "plt.plot(df_combine2[\"strike\"],df_combine2[\"impliedvol_rho1\"],\"b-\", linewidth=2,label=\"ρ = -0.5\")\n",
    "plt.plot(df_combine2[\"strike\"],df_combine2[\"impliedvol_rho2\"],\"b-.\", linewidth=2,label=\"ρ = 0.0\")\n",
    "plt.plot(df_combine2[\"strike\"],df_combine2[\"impliedvol_rho3\"],\"b--\", linewidth=2,label=\"ρ = 0.5\")\n",
    "\n",
    "plt.title(\"Varied Rho For SABR Model\")\n",
    "plt.xlabel(\"Strike\")\n",
    "plt.ylabel(\"Implied Volatility\")\n",
    "plt.legend(loc=\"upper right\")\n",
    "plt.show()"
   ]
  },
  {
   "cell_type": "markdown",
   "metadata": {},
   "source": [
    "### Plot the implied volatility smile of SABR Model with varied nu(ν)"
   ]
  },
  {
   "cell_type": "code",
   "execution_count": 20,
   "metadata": {},
   "outputs": [
    {
     "data": {
      "image/png": "[encoded data removed]",
      "text/plain": [
       "<Figure size 576x432 with 1 Axes>"
      ]
     },
     "metadata": {
      "needs_background": "light"
     },
     "output_type": "display_data"
    }
   ],
   "source": [
    "plt.figure(figsize=(8, 6))\n",
    "plt.plot(df_combine2[\"strike\"],df_combine2[\"impliedvol_nu1\"],\"b-\", linewidth=2,label=\"ν = 0.1\")\n",
    "plt.plot(df_combine2[\"strike\"],df_combine2[\"impliedvol_nu2\"],\"b-.\", linewidth=2,label=\"ν = 0.3\")\n",
    "plt.plot(df_combine2[\"strike\"],df_combine2[\"impliedvol_nu3\"],\"b--\", linewidth=2,label=\"ν = 0.5\")\n",
    "\n",
    "plt.title(\"Varied Nu For SABR Model\")\n",
    "plt.xlabel(\"Strike\")\n",
    "plt.ylabel(\"Implied Volatility\")\n",
    "plt.legend(loc=\"upper right\")\n",
    "plt.show()"
   ]
  }
 ],
 "metadata": {
  "kernelspec": {
   "display_name": "Python 3",
   "language": "python",
   "name": "python3"
  },
  "language_info": {
   "codemirror_mode": {
    "name": "ipython",
    "version": 3
   },
   "file_extension": ".py",
   "mimetype": "text/x-python",
   "name": "python",
   "nbconvert_exporter": "python",
   "pygments_lexer": "ipython3",
   "version": "3.8.3"
  }
 },
 "nbformat": 4,
 "nbformat_minor": 4
}
