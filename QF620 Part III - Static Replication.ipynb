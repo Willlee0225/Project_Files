{
 "cells": [
  {
   "cell_type": "markdown",
   "metadata": {},
   "source": [
    "# QF620 Project | Part 3  (Static Replication)"
   ]
  },
  {
   "cell_type": "code",
   "execution_count": 4,
   "metadata": {},
   "outputs": [],
   "source": [
    "import pandas as pd\n",
    "import numpy as np\n",
    "from scipy import stats\n",
    "from scipy.stats import norm\n",
    "from scipy import integrate\n",
    "from math import log, sqrt, exp"
   ]
  },
  {
   "cell_type": "code",
   "execution_count": 5,
   "metadata": {},
   "outputs": [],
   "source": [
    "##payoff function:\n",
    "##Payoff=ST**3*10**(-8)+0.5*np.log(ST)+10"
   ]
  },
  {
   "cell_type": "markdown",
   "metadata": {},
   "source": [
    "## I.Preparation"
   ]
  },
  {
   "cell_type": "markdown",
   "metadata": {},
   "source": [
    "### 1.1Evaluation period(T), discount rate(r) and start value(S0)"
   ]
  },
  {
   "cell_type": "code",
   "execution_count": 6,
   "metadata": {},
   "outputs": [
    {
     "data": {
      "text/plain": [
       "1.3835616438356164"
      ]
     },
     "execution_count": 6,
     "metadata": {},
     "output_type": "execute_result"
    }
   ],
   "source": [
    "## T\n",
    "import datetime as dt\n",
    "today = dt.date(2013, 8, 30)\n",
    "expiry = dt.date(2015, 1, 17)\n",
    "T = (expiry-today).days/365.0\n",
    "T"
   ]
  },
  {
   "cell_type": "code",
   "execution_count": 7,
   "metadata": {},
   "outputs": [
    {
     "data": {
      "text/html": [
       "<div>\n",
       "<style scoped>\n",
       "    .dataframe tbody tr th:only-of-type {\n",
       "        vertical-align: middle;\n",
       "    }\n",
       "\n",
       "    .dataframe tbody tr th {\n",
       "        vertical-align: top;\n",
       "    }\n",
       "\n",
       "    .dataframe thead th {\n",
       "        text-align: right;\n",
       "    }\n",
       "</style>\n",
       "<table border=\"1\" class=\"dataframe\">\n",
       "  <thead>\n",
       "    <tr style=\"text-align: right;\">\n",
       "      <th></th>\n",
       "      <th>Day</th>\n",
       "      <th>Rate (%)</th>\n",
       "    </tr>\n",
       "  </thead>\n",
       "  <tbody>\n",
       "    <tr>\n",
       "      <th>0</th>\n",
       "      <td>7</td>\n",
       "      <td>0.14981</td>\n",
       "    </tr>\n",
       "    <tr>\n",
       "      <th>1</th>\n",
       "      <td>14</td>\n",
       "      <td>0.17250</td>\n",
       "    </tr>\n",
       "    <tr>\n",
       "      <th>2</th>\n",
       "      <td>19</td>\n",
       "      <td>0.17595</td>\n",
       "    </tr>\n",
       "    <tr>\n",
       "      <th>3</th>\n",
       "      <td>47</td>\n",
       "      <td>0.23118</td>\n",
       "    </tr>\n",
       "    <tr>\n",
       "      <th>4</th>\n",
       "      <td>82</td>\n",
       "      <td>0.25150</td>\n",
       "    </tr>\n",
       "  </tbody>\n",
       "</table>\n",
       "</div>"
      ],
      "text/plain": [
       "   Day  Rate (%)\n",
       "0    7   0.14981\n",
       "1   14   0.17250\n",
       "2   19   0.17595\n",
       "3   47   0.23118\n",
       "4   82   0.25150"
      ]
     },
     "execution_count": 7,
     "metadata": {},
     "output_type": "execute_result"
    }
   ],
   "source": [
    "## r\n",
    "discount=pd.read_csv(\"discount.csv\")\n",
    "discount.head()"
   ]
  },
  {
   "cell_type": "code",
   "execution_count": 8,
   "metadata": {},
   "outputs": [
    {
     "data": {
      "text/plain": [
       "0.004215804395604396"
      ]
     },
     "execution_count": 8,
     "metadata": {},
     "output_type": "execute_result"
    }
   ],
   "source": [
    "#Lianear introplonation\n",
    "r1=0.38802\n",
    "r2=0.43892\n",
    "r=((505-474)/(565-474)*r1+(565-505)/(565-474)*r2)/100\n",
    "r"
   ]
  },
  {
   "cell_type": "code",
   "execution_count": 9,
   "metadata": {},
   "outputs": [],
   "source": [
    "## S0:Google stock price on 30-Aug-2013\n",
    "S0=846.9"
   ]
  },
  {
   "cell_type": "markdown",
   "metadata": {},
   "source": [
    "### 1.2Parameter(sigma)"
   ]
  },
  {
   "cell_type": "code",
   "execution_count": 10,
   "metadata": {},
   "outputs": [],
   "source": [
    "##we use ATM implied volatility derived from Part2 as sigma in valuing the contract\n",
    "ATMvol_BS=0.258"
   ]
  },
  {
   "cell_type": "markdown",
   "metadata": {},
   "source": [
    "## II.Use different model to determine the price of this contract"
   ]
  },
  {
   "cell_type": "markdown",
   "metadata": {},
   "source": [
    "### 1. Black-Scholes Model"
   ]
  },
  {
   "cell_type": "markdown",
   "metadata": {},
   "source": [
    "\\begin{equation}\n",
    "V0 = e^{-rT} [{{S_0^3} \\times\\ {\\rm e}^{3(r-\\frac{\\sigma^2}{2})T} \\times\\ 10^{-8} \\times\\ {\\rm e}^{\\frac{9}{2}{\\sigma^2}T} + \\frac{1}{2}log(S_0) + \\frac{1}{2}{(r-\\frac{\\sigma^2}{2})T} + 10}]\n",
    "\\end{equation}"
   ]
  },
  {
   "cell_type": "code",
   "execution_count": 11,
   "metadata": {},
   "outputs": [],
   "source": [
    "##ST=S0*np.exp((r-0.5*sigma**2)*T+sigma*np.sqrt(T)*x)\n",
    "def contract_BS(S0,T,r,sigma):\n",
    "    V0=np.exp(-r*T)*(S0**3*np.exp(3*(r-0.5*sigma**2)*T)*10**(-8)*np.exp(4.5*T*sigma**2)+0.5*np.log(S0)+0.5*(r-0.5*sigma**2)*T+10)\n",
    "    return V0"
   ]
  },
  {
   "cell_type": "code",
   "execution_count": 12,
   "metadata": {},
   "outputs": [
    {
     "data": {
      "text/plain": [
       "21.374293191359243"
      ]
     },
     "execution_count": 12,
     "metadata": {},
     "output_type": "execute_result"
    }
   ],
   "source": [
    "contract_BS(S0,T,r,ATMvol_BS)"
   ]
  },
  {
   "cell_type": "markdown",
   "metadata": {},
   "source": [
    "### 2. Bachelier Model"
   ]
  },
  {
   "cell_type": "markdown",
   "metadata": {},
   "source": [
    "\\begin{equation}\n",
    "\\begin{split}\n",
    "V0 &= e^{-rT} [\\frac{1}{2}log(S_0) + 10] + e^{-rT} \\times\\ {S_0^3} \\times\\ 10^{-8} \\times\\ f_1(x) + e^{-rT} \\times\\ {\\frac{1}{2}} \\times\\ f_2(x) \\\\\n",
    "         f_1(x) &= \\int_{-\\frac{1}{\\sigma\\sqrt{T}}}^t ({1 + \\sigma\\sqrt{T}x}^3) \\times\\ \\frac{1}{\\sqrt{2\\pi}} \n",
    "         \\times\\ e^{\\frac{x^2}{2}}\\,{\\rm d}x, \n",
    "         \\hspace{2cm} f_2(x) = \\int_{-\\frac{1}{\\sigma\\sqrt{T}}}^t log({1 + \\sigma\\sqrt{T}x}) \\times\\ \\frac{1}{\\sqrt{2\\pi}} \\times\\ e^{\\frac{x^2}{2}}\\,{\\rm d}x\\\\\n",
    "\\end{split}\n",
    "\\end{equation}"
   ]
  },
  {
   "cell_type": "code",
   "execution_count": 13,
   "metadata": {},
   "outputs": [],
   "source": [
    "a=float(\"inf\")\n",
    "b=float(\"-inf\")"
   ]
  },
  {
   "cell_type": "code",
   "execution_count": 102,
   "metadata": {},
   "outputs": [],
   "source": [
    "##The Probability of payoff: P{ST>0}=P{S0+S0*sigma*sqrt(T)*x>0} = P{x>(-1/(sigma*sqrt(T)))}"
   ]
  },
  {
   "cell_type": "code",
   "execution_count": 14,
   "metadata": {},
   "outputs": [
    {
     "data": {
      "text/plain": [
       "0.258"
      ]
     },
     "execution_count": 14,
     "metadata": {},
     "output_type": "execute_result"
    }
   ],
   "source": [
    "sigma1=ATMvol_BS\n",
    "sigma1"
   ]
  },
  {
   "cell_type": "code",
   "execution_count": 15,
   "metadata": {},
   "outputs": [
    {
     "name": "stdout",
     "output_type": "stream",
     "text": [
      "1.2762874808900895\n"
     ]
    }
   ],
   "source": [
    "## solution of f1(x)\n",
    "def f1(x):\n",
    "    return (1/np.sqrt(2*np.pi))*(1+sigma1*np.sqrt(T)*x)**3*np.exp(-0.5*x**2)\n",
    "v1,err=integrate.quad(f1,-1/(sigma1*np.sqrt(T)),a)\n",
    "print(v1)    "
   ]
  },
  {
   "cell_type": "code",
   "execution_count": 16,
   "metadata": {},
   "outputs": [
    {
     "name": "stdout",
     "output_type": "stream",
     "text": [
      "-0.054701916214791924\n"
     ]
    }
   ],
   "source": [
    "##solution of f2(x)\n",
    "def f2(x):\n",
    "    return (1/np.sqrt(2*np.pi))*np.log(1+sigma1*np.sqrt(T)*x)*np.exp(-0.5*x**2)\n",
    "v2,err=integrate.quad(f2,-1/(sigma1*np.sqrt(T)),a)\n",
    "print(v2)  "
   ]
  },
  {
   "cell_type": "code",
   "execution_count": 17,
   "metadata": {},
   "outputs": [],
   "source": [
    "##valuation of contract \n",
    "def contract_Bachelier(S0,r):\n",
    "    V0=np.exp(-r*T)*(0.5*np.log(S0)+10)+np.exp(-r*T)*S0**3*(10**(-8))*v1+np.exp(-r*T)*0.5*v2\n",
    "    return V0\n",
    "    print(V0)    "
   ]
  },
  {
   "cell_type": "code",
   "execution_count": 18,
   "metadata": {},
   "outputs": [
    {
     "data": {
      "text/plain": [
       "20.97330518544933"
      ]
     },
     "execution_count": 18,
     "metadata": {},
     "output_type": "execute_result"
    }
   ],
   "source": [
    "contract_Bachelier(S0,r)"
   ]
  },
  {
   "cell_type": "markdown",
   "metadata": {},
   "source": [
    "### 3.Valuation of the contract(print result)"
   ]
  },
  {
   "cell_type": "code",
   "execution_count": 19,
   "metadata": {},
   "outputs": [
    {
     "name": "stdout",
     "output_type": "stream",
     "text": [
      "Based on Black-Scholes Model, \n",
      "The value of this contract:21.3743 \n",
      "sigma:0.2580\n",
      "\n",
      "Based on Bachelier Model, \n",
      "The value of this contract:20.9733 \n",
      "sigma:0.2580\n"
     ]
    }
   ],
   "source": [
    "print(\"Based on Black-Scholes Model, \\nThe value of this contract:{:.4f} \\nsigma:{:.4f}\".format(contract_BS(S0,T,r,ATMvol_BS),ATMvol_BS))\n",
    "print(\"\\nBased on Bachelier Model, \\nThe value of this contract:{:.4f} \\nsigma:{:.4f}\".format(contract_Bachelier(S0,r),sigma1))"
   ]
  },
  {
   "cell_type": "code",
   "execution_count": null,
   "metadata": {},
   "outputs": [],
   "source": []
  }
 ],
 "metadata": {
  "kernelspec": {
   "display_name": "Python 3",
   "language": "python",
   "name": "python3"
  }
 },
 "nbformat": 4,
 "nbformat_minor": 4
}
