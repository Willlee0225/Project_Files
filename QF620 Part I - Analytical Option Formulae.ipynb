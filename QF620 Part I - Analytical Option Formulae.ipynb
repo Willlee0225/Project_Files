{
 "cells": [
  {
   "cell_type": "markdown",
   "metadata": {},
   "source": [
    "# QF620 Project | Part 1  (Analytical Option Formulae)"
   ]
  },
  {
   "cell_type": "markdown",
   "metadata": {},
   "source": [
    "Consider the following European options:\n",
    "- Vanilla call/put\n",
    "- Digital cash-or-nothing call/put\n",
    "- Digital asset-or-nothing call/put\n",
    "\n",
    "\n",
    "Derive and implement the following models to value these options in Python:\n",
    "\n",
    "1. Black-Scholes model\n",
    "\n",
    "2. Bachelier model\n",
    "\n",
    "3. Black76 model\n",
    "\n",
    "4. Displaced-diffusion model"
   ]
  },
  {
   "cell_type": "code",
   "execution_count": 140,
   "metadata": {},
   "outputs": [],
   "source": [
    "import numpy as np\n",
    "from scipy.stats import norm\n",
    "from math import log, sqrt, exp"
   ]
  },
  {
   "cell_type": "markdown",
   "metadata": {},
   "source": [
    "## 1. Black-Scholes Model"
   ]
  },
  {
   "cell_type": "markdown",
   "metadata": {},
   "source": [
    "The Black-Scholes formula for a vanilla call option is given by\n",
    "\n",
    "\\begin{equation}\n",
    "\\begin{split}\n",
    "C(S,K,r,\\sigma,T) &= S_0 \\Phi(d_1) - K e^{-rT} \\Phi(d_2)\\\\\n",
    "            d_1 &= \\frac{\\log \\frac{S_0}{K} +\n",
    "            \\left(r+\\frac{\\sigma^2}{2}\\right)T}{\\sigma\\sqrt{T}}, \\hspace{2cm} d_2 = d_1 - \\sigma\\sqrt{T}\\\\\n",
    "\\end{split}           \n",
    "\\end{equation}\n",
    "\n",
    "- For a digital cash-or-nothing call option,\n",
    "\n",
    "\\begin{equation}\n",
    "C(S,K,r,\\sigma,T) = e^{-rT} \\Phi(d_2)\n",
    "\\end{equation}\n",
    "\n",
    "- For a digital asset-or-nothing call option,\n",
    "\n",
    "\\begin{equation}\n",
    "C(S,K,r,\\sigma,T) = S_0 \\Phi(d_1)\n",
    "\\end{equation}"
   ]
  },
  {
   "cell_type": "markdown",
   "metadata": {},
   "source": [
    "The Black-Scholes formula for a vanilla put option is given by\n",
    "\n",
    "\\begin{equation}\n",
    "P(S,K,r,\\sigma,T) = K e^{-rT} \\Phi(-d_2) - S_0 \\Phi(-d_1)\n",
    "\\end{equation}\n",
    "\n",
    "- For a digital cash-or-nothing put option,\n",
    "\n",
    "\\begin{equation}\n",
    "P(S,K,r,\\sigma,T) = e^{-rT} \\Phi(-d_2)\n",
    "\\end{equation}\n",
    "\n",
    "- For a digital asset-or-nothing put option,\n",
    "\n",
    "\\begin{equation}\n",
    "P(S,K,r,\\sigma,T) = S_0 \\Phi(-d_1)\n",
    "\\end{equation}"
   ]
  },
  {
   "cell_type": "code",
   "execution_count": 1,
   "metadata": {},
   "outputs": [],
   "source": [
    "def BlackScholesCall(S, K, r, sigma, T):\n",
    "    d1 = (log(S/K)+(r+sigma**2/2)*T) / (sigma*sqrt(T))\n",
    "    d2 = d1 - sigma*sqrt(T)\n",
    "    v_call = S*norm.cdf(d1) - K*exp(-r*T)*norm.cdf(d2)\n",
    "    cd_call = exp(-r*T)*norm.cdf(d2)\n",
    "    ad_call = S*norm.cdf(d1)\n",
    "    return v_call, cd_call, ad_call\n",
    "\n",
    "def BlackScholesPut(S, K, r, sigma, T):\n",
    "    d1 = (log(S/K)+(r+sigma**2/2)*T) / (sigma*sqrt(T))\n",
    "    d2 = d1 - sigma*sqrt(T)\n",
    "    v_put = K*exp(-r*T)*norm.cdf(-d2) - S*norm.cdf(-d1)\n",
    "    cd_put = exp(-r*T)*norm.cdf(-d2)\n",
    "    ad_put = S*norm.cdf(-d1)\n",
    "    return v_put, cd_put, ad_put"
   ]
  },
  {
   "cell_type": "markdown",
   "metadata": {},
   "source": [
    "## 2. Bachelier Model"
   ]
  },
  {
   "cell_type": "markdown",
   "metadata": {},
   "source": [
    "The Bachelier formula for a vanilla call option is given by\n",
    "\n",
    "\\begin{equation}\n",
    "\\begin{split}\n",
    "C(S,K,\\sigma,T) &= (S_0-K) \\Phi(d_3) + S_0 \\sigma \\sqrt{T} \\phi(d_3)\\\\\n",
    "            d_3 &= \\frac{S_0 - K}{S_0 \\sigma\\sqrt{T}}\\\\\n",
    "\\end{split}           \n",
    "\\end{equation}\n",
    "\n",
    "- For a digital cash-or-nothing call option,\n",
    "\n",
    "\\begin{equation}\n",
    "C(S,K,\\sigma,T) = \\Phi(d_3)\n",
    "\\end{equation}\n",
    "\n",
    "- For a digital asset-or-nothing call option,\n",
    "\n",
    "\\begin{equation}\n",
    "C(S,K,\\sigma,T) = S_0 \\Phi(d_3) + S_0 \\sigma \\sqrt{T} \\phi(d_3)\n",
    "\\end{equation}"
   ]
  },
  {
   "cell_type": "markdown",
   "metadata": {},
   "source": [
    "The Bachelier formula for a vanilla put option is given by\n",
    "\n",
    "\\begin{equation}\n",
    "P(S,K,\\sigma,T) = (K - S_0) \\Phi(-d_3) + S_0 \\sigma \\sqrt{T} \\phi(-d_3)       \n",
    "\\end{equation}\n",
    "\n",
    "- For a digital cash-or-nothing put option,\n",
    "\n",
    "\\begin{equation}\n",
    "P(S,K,\\sigma,T) = \\Phi(-d_3)\n",
    "\\end{equation}\n",
    "\n",
    "- For a digital asset-or-nothing put option,\n",
    "\n",
    "\\begin{equation}\n",
    "P(S,K,\\sigma,T) = S_0 \\Phi(-d_3) - S_0 \\sigma \\sqrt{T} \\phi(-d_3)\n",
    "\\end{equation}"
   ]
  },
  {
   "cell_type": "code",
   "execution_count": 142,
   "metadata": {},
   "outputs": [],
   "source": [
    "def BachelierCall(S, K, sigma, T):  \n",
    "    d3 = (S-K)/(S*sigma*sqrt(T))\n",
    "    v_call = (S-K)*norm.cdf(d3) + S*sigma*sqrt(T)*norm.pdf(d3)\n",
    "    cd_call = norm.cdf(d3)\n",
    "    ad_call = S*norm.cdf(d3) + S*sigma*sqrt(T)*norm.pdf(d3)\n",
    "    return v_call, cd_call, ad_call\n",
    "\n",
    "def BachelierPut(S, K, sigma, T):\n",
    "    d3 = (S-K)/(S*sigma*sqrt(T))\n",
    "    v_put = (K-S)*norm.cdf(-d3) + S*sigma*sqrt(T)*norm.pdf(-d3)\n",
    "    cd_put = norm.cdf(-d3)\n",
    "    ad_put = S*norm.cdf(-d3) - S*sigma*sqrt(T)*norm.pdf(-d3)\n",
    "    return v_put, cd_put, ad_put"
   ]
  },
  {
   "cell_type": "markdown",
   "metadata": {},
   "source": [
    "## 3. Black76 Model"
   ]
  },
  {
   "cell_type": "markdown",
   "metadata": {},
   "source": [
    "The Black76 formula for a vanilla call option is given by\n",
    "\n",
    "\\begin{equation}\n",
    "\\begin{split}\n",
    "C(F,K,r,\\sigma,T) &= e^{-rT}[F \\Phi(d_1) - K \\Phi(d_2)]  \\\\\n",
    "            d_1 &= \\frac{\\log \\frac{F}{K} +\n",
    "            \\left(r+\\frac{\\sigma^2}{2}\\right)T}{\\sigma\\sqrt{T}}, \\hspace{2cm} d_2 = d_1 - \\sigma\\sqrt{T}\\\\\n",
    "\\end{split}           \n",
    "\\end{equation}\n",
    "\n",
    "- For a digital cash-or-nothing call option,\n",
    "\n",
    "\\begin{equation}\n",
    "C(F,K,r,\\sigma,T) = e^{-rT} \\Phi(d_2)\n",
    "\\end{equation}\n",
    "\n",
    "- For a digital asset-or-nothing call option,\n",
    "\n",
    "\\begin{equation}\n",
    "C(F,K,r,\\sigma,T) = e^{-rT} F \\Phi(d_1)\n",
    "\\end{equation}\n",
    "\n",
    "\n",
    "The Black76 formula for a vanilla put option is given by\n",
    "\n",
    "\\begin{equation}\n",
    "P(F,K,r,\\sigma,T) = e^{-rT}[-F \\Phi(-d_1) + K \\Phi(-d_2)]    \n",
    "\\end{equation}\n",
    "\n",
    "- For a digital cash-or-nothing put option,\n",
    "\n",
    "\\begin{equation}\n",
    "P(F,K,r,\\sigma,T) = e^{-rT} \\Phi(-d_2)\n",
    "\\end{equation}\n",
    "\n",
    "- For a digital asset-or-nothing put option,\n",
    "\n",
    "\\begin{equation}\n",
    "P(F,K,r,\\sigma,T) = e^{-rT} F \\Phi(-d_1)\n",
    "\\end{equation}"
   ]
  },
  {
   "cell_type": "code",
   "execution_count": 143,
   "metadata": {},
   "outputs": [],
   "source": [
    "def Black76Call(F, K, r, sigma, T):\n",
    "    d1 = (log(F/K)+(r+sigma**2/2)*T) / (sigma*sqrt(T))\n",
    "    d2 = d1 - sigma*sqrt(T)\n",
    "    v_call = exp(-r*T)*(F*norm.cdf(d1)-K*norm.cdf(d2))\n",
    "    cd_call = exp(-r*T)*norm.cdf(d2)\n",
    "    ad_call = F*exp(-r*T)*norm.cdf(d1)\n",
    "    return v_call, cd_call, ad_call\n",
    "\n",
    "def Black76Put(F, K, r, sigma, T):\n",
    "    d1 = (log(F/K)+(r+sigma**2/2)*T) / (sigma*sqrt(T))\n",
    "    d2 = d1 - sigma*sqrt(T)\n",
    "    v_put = exp(-r*T)*(K*norm.cdf(-d2) - F*norm.cdf(-d1))\n",
    "    cd_put = exp(-r*T)*norm.cdf(-d2)\n",
    "    ad_put = F*exp(-r*T)*norm.cdf(-d1)\n",
    "    return v_put, cd_put, ad_put"
   ]
  },
  {
   "cell_type": "markdown",
   "metadata": {},
   "source": [
    "## 4. Displaced-Diffusion Model"
   ]
  },
  {
   "cell_type": "markdown",
   "metadata": {},
   "source": [
    "The option price under the displaced-diffusion model is\n",
    "\n",
    "\\begin{equation}\n",
    "Displaced-Diffusion = Black76 (\\frac{F_0}{\\beta}, K + \\frac{1 + \\beta}{\\beta} F_0, r, \\sigma \\beta, T)\n",
    "\\end{equation}"
   ]
  },
  {
   "cell_type": "code",
   "execution_count": 144,
   "metadata": {},
   "outputs": [],
   "source": [
    "def DispDiffCall(F, K, r, sigma, T, beta):\n",
    "    \n",
    "    v_call = Black76Call(F/beta, K+(1-beta)/beta*F, r, sigma*beta, T)[0]\n",
    "    cd_call = Black76Call(F/beta, K+(1-beta)/beta*F, r, sigma*beta, T)[1]\n",
    "    ad_call = Black76Call(F/beta, K+(1-beta)/beta*F, r, sigma*beta, T)[2]\n",
    "    return v_call, cd_call, ad_call\n",
    "\n",
    "def DispDiffPut(F, K, r, sigma, T, beta):\n",
    "    \n",
    "    v_put = Black76Put(F/beta, K+(1-beta)/beta*F, r, sigma*beta, T)[0]\n",
    "    cd_put = Black76Put(F/beta, K+(1-beta)/beta*F, r, sigma*beta, T)[1]\n",
    "    ad_put = Black76Put(F/beta, K+(1-beta)/beta*F, r, sigma*beta, T)[2]\n",
    "    return v_put, cd_put, ad_put"
   ]
  },
  {
   "cell_type": "markdown",
   "metadata": {},
   "source": [
    "## Test"
   ]
  },
  {
   "cell_type": "code",
   "execution_count": 145,
   "metadata": {},
   "outputs": [],
   "source": [
    "S = 100.0\n",
    "r = 0.05\n",
    "T = 2.0\n",
    "K = S * exp(r*T)\n",
    "F = S * exp(r*T)\n",
    "sigma = 0.4\n",
    "beta = 0.6"
   ]
  },
  {
   "cell_type": "code",
   "execution_count": 146,
   "metadata": {},
   "outputs": [
    {
     "name": "stdout",
     "output_type": "stream",
     "text": [
      "In Black-Scholes model, \n",
      "\n",
      "Vanilla call price: 22.2703 \n",
      "Digital cash-or-nothing call price: 0.3517 \n",
      "Digital asset-or-nothing call price: 61.1351\n",
      "\n",
      "Vanilla put price: 22.2703 \n",
      "Digital cash-or-nothing put price: 0.5532 \n",
      "Digital asset-or-nothing put price: 38.8649\n"
     ]
    }
   ],
   "source": [
    "print('In Black-Scholes model, \\n\\nVanilla call price: {:.4f} \\nDigital cash-or-nothing call price: {:.4f} \\nDigital asset-or-nothing call price: {:.4f}'.format(BlackScholesCall(S, K, r, sigma, T)[0], BlackScholesCall(S, K, r, sigma, T)[1],BlackScholesCall(S, K, r, sigma, T)[2]))\n",
    "print('\\nVanilla put price: {:.4f} \\nDigital cash-or-nothing put price: {:.4f} \\nDigital asset-or-nothing put price: {:.4f}'.format(BlackScholesPut(S, K, r, sigma, T)[0], BlackScholesPut(S, K, r, sigma, T)[1],BlackScholesPut(S, K, r, sigma, T)[2]))"
   ]
  },
  {
   "cell_type": "code",
   "execution_count": 147,
   "metadata": {},
   "outputs": [
    {
     "name": "stdout",
     "output_type": "stream",
     "text": [
      "In Bachelier model, \n",
      "\n",
      "Vanilla call price: 17.6979 \n",
      "Digital cash-or-nothing call price: 0.4263 \n",
      "Digital asset-or-nothing call price: 64.8064\n",
      "\n",
      "Vanilla put price: 28.2150 \n",
      "Digital cash-or-nothing put price: 0.5737 \n",
      "Digital asset-or-nothing put price: 35.1936\n"
     ]
    }
   ],
   "source": [
    "print('In Bachelier model, \\n\\nVanilla call price: {:.4f} \\nDigital cash-or-nothing call price: {:.4f} \\nDigital asset-or-nothing call price: {:.4f}'.format(BachelierCall(S, K, sigma, T)[0], BachelierCall(S, K, sigma, T)[1],BachelierCall(S, K, sigma, T)[2]))\n",
    "print('\\nVanilla put price: {:.4f} \\nDigital cash-or-nothing put price: {:.4f} \\nDigital asset-or-nothing put price: {:.4f}'.format(BachelierPut(S, K, sigma, T)[0], BachelierPut(S, K, sigma, T)[1],BachelierPut(S, K, sigma, T)[2]))"
   ]
  },
  {
   "cell_type": "code",
   "execution_count": 148,
   "metadata": {},
   "outputs": [
    {
     "name": "stdout",
     "output_type": "stream",
     "text": [
      "In Black76 model, \n",
      "\n",
      "Vanilla call price: 16.4525 \n",
      "Digital cash-or-nothing call price: 0.3517 \n",
      "Digital asset-or-nothing call price: 55.3174\n",
      "\n",
      "Vanilla put price: 25.9687 \n",
      "Digital cash-or-nothing put price: 0.5532 \n",
      "Digital asset-or-nothing put price: 35.1664\n"
     ]
    }
   ],
   "source": [
    "print('In Black76 model, \\n\\nVanilla call price: {:.4f} \\nDigital cash-or-nothing call price: {:.4f} \\nDigital asset-or-nothing call price: {:.4f}'.format(Black76Call(S, K, r, sigma, T)[0], Black76Call(S, K, r, sigma, T)[1],Black76Call(S, K, r, sigma, T)[2]))\n",
    "print('\\nVanilla put price: {:.4f} \\nDigital cash-or-nothing put price: {:.4f} \\nDigital asset-or-nothing put price: {:.4f}'.format(Black76Put(S, K, r, sigma, T)[0], Black76Put(S, K, r, sigma, T)[1],Black76Put(S, K, r, sigma, T)[2]))"
   ]
  },
  {
   "cell_type": "code",
   "execution_count": 149,
   "metadata": {},
   "outputs": [
    {
     "name": "stdout",
     "output_type": "stream",
     "text": [
      "In Displaced-Diffusion model, \n",
      "\n",
      "Vanilla call price: 21.5147 \n",
      "Digital cash-or-nothing call price: 0.4974 \n",
      "Digital asset-or-nothing call price: 113.1326\n",
      "\n",
      "Vanilla put price: 21.5147 \n",
      "Digital cash-or-nothing put price: 0.4074 \n",
      "Digital asset-or-nothing put price: 53.5341\n"
     ]
    }
   ],
   "source": [
    "print('In Displaced-Diffusion model, \\n\\nVanilla call price: {:.4f} \\nDigital cash-or-nothing call price: {:.4f} \\nDigital asset-or-nothing call price: {:.4f}'.format(DispDiffCall(F, K, r, sigma, T, beta)[0], DispDiffCall(F, K, r, sigma, T, beta)[1], DispDiffCall(F, K, r, sigma, T, beta)[2]))\n",
    "print('\\nVanilla put price: {:.4f} \\nDigital cash-or-nothing put price: {:.4f} \\nDigital asset-or-nothing put price: {:.4f}'.format(DispDiffPut(F, K, r, sigma, T, beta)[0], DispDiffPut(F, K, r, sigma, T, beta)[1], DispDiffPut(F, K, r, sigma, T, beta)[2]))"
   ]
  },
  {
   "cell_type": "code",
   "execution_count": null,
   "metadata": {},
   "outputs": [],
   "source": []
  }
 ],
 "metadata": {
  "kernelspec": {
   "display_name": "Python 3",
   "language": "python",
   "name": "python3"
  },
  "language_info": {
   "codemirror_mode": {
    "name": "ipython",
    "version": 3
   },
   "file_extension": ".py",
   "mimetype": "text/x-python",
   "name": "python",
   "nbconvert_exporter": "python",
   "pygments_lexer": "ipython3",
   "version": "3.8.3"
  }
 },
 "nbformat": 4,
 "nbformat_minor": 4
}
